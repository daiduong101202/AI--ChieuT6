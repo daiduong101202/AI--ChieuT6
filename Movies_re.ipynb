{
  "nbformat": 4,
  "nbformat_minor": 0,
  "metadata": {
    "colab": {
      "provenance": [],
      "authorship_tag": "ABX9TyNF25DkrBJn7upVd+a1esbz",
      "include_colab_link": true
    },
    "kernelspec": {
      "name": "python3",
      "display_name": "Python 3"
    },
    "language_info": {
      "name": "python"
    }
  },
  "cells": [
    {
      "cell_type": "markdown",
      "metadata": {
        "id": "view-in-github",
        "colab_type": "text"
      },
      "source": [
        "<a href=\"https://colab.research.google.com/github/daiduong101202/AI--ChieuT6/blob/main/Movies_re.ipynb\" target=\"_parent\"><img src=\"https://colab.research.google.com/assets/colab-badge.svg\" alt=\"Open In Colab\"/></a>"
      ]
    },
    {
      "cell_type": "code",
      "execution_count": 1,
      "metadata": {
        "id": "5lkBVarwfieK"
      },
      "outputs": [],
      "source": [
        "import numpy as np\n",
        "import pandas as pd\n",
        "import difflib\n",
        "from sklearn.feature_extraction.text import TfidfVectorizer\n",
        "from sklearn.metrics.pairwise import cosine_similarity"
      ]
    },
    {
      "cell_type": "code",
      "source": [
        "# loading the data from the csv file to apandas dataframe\n",
        "movies_data = pd.read_csv('/content/movies_re.csv')"
      ],
      "metadata": {
        "id": "xVt5cdoPfl0L"
      },
      "execution_count": 2,
      "outputs": []
    },
    {
      "cell_type": "code",
      "source": [
        "# printing the first 5 rows of the dataframe\n",
        "movies_data.head()"
      ],
      "metadata": {
        "colab": {
          "base_uri": "https://localhost:8080/",
          "height": 669
        },
        "id": "P2XtXe9jfuIa",
        "outputId": "23749336-ec77-4afc-d8c7-a901e8792e72"
      },
      "execution_count": 3,
      "outputs": [
        {
          "output_type": "execute_result",
          "data": {
            "text/plain": [
              "   index     budget                            genres  \\\n",
              "0      0  237000000                     Drama Romance   \n",
              "1      1   78000000  Action Fantasy Adventure Sci-Fi    \n",
              "2      2   12000000           Action Adventure Sci_Fi   \n",
              "3      3  560000000     Action Adventure Sci_Fi Drama   \n",
              "4      4  355000000           Action Adventure Sci-Fi   \n",
              "\n",
              "                                            homepage     id  \\\n",
              "0              https://www.imdb.com/title/tt0120338/  16878   \n",
              "1  https://www.imdb.com/title/tt10872600/?ref_=nv...   4789   \n",
              "2  https://www.imdb.com/title/tt2250912/?ref_=nv_...   3254   \n",
              "3  https://www.imdb.com/title/tt4154796/?ref_=ttl...   1257   \n",
              "4  https://www.imdb.com/title/tt4154756/?ref_=tt_...   1125   \n",
              "\n",
              "                                            keywords  \\\n",
              "0  iceberg sailor's death shipwreck nude modeling...   \n",
              "1  spiderman character superhero marvel cinematic...   \n",
              "2  marvel cinematic universe superhero reboot ave...   \n",
              "3  time travel superhero super villain cosmic mar...   \n",
              "4  superhero death of recurring character supervi...   \n",
              "\n",
              "                                            overview  \\\n",
              "0  84 years later, a 100 year-old woman named Ros...   \n",
              "1  Peter Parker's secret identity is revealed to ...   \n",
              "2  A young Peter Parker/Spider-Man begins to navi...   \n",
              "3  After the devastating events of Avengers: Infi...   \n",
              "4  As the Avengers and their allies have continue...   \n",
              "\n",
              "                                   tagline                    title  \\\n",
              "0          Experience It Like Never Before                  Titanic   \n",
              "1                The Multiverse Unleashed.  Spider-Man: No Way Home   \n",
              "2     \\nHomework can wait. The city can't.   Spider-Man: Homecoming   \n",
              "3                       Avenge the fallen.        Avengers: Endgame   \n",
              "4  \\nAn entire universe. Once and for all.   Avengers: Infinity War   \n",
              "\n",
              "                                                cast       director  \n",
              "0  Leonardo DiCaprio Kate Winslet Billy Zane Kath...  James Cameron  \n",
              "1  Tom Holland Zendaya Benedict Cumberbatch Jacob...      Jon Watts  \n",
              "2  Tom Holland Michael Keaton Robert Downey Jr. M...      Jon Watts  \n",
              "3  Robert Downey Jr. Chris Evans Mark Ruffalo Chr...  Anthony Russo  \n",
              "4  Robert Downey Jr. Chris Evans Mark Ruffalo Chr...  Anthony Russo  "
            ],
            "text/html": [
              "\n",
              "  <div id=\"df-3e045fc6-a4e5-46a4-b316-c41add48372d\">\n",
              "    <div class=\"colab-df-container\">\n",
              "      <div>\n",
              "<style scoped>\n",
              "    .dataframe tbody tr th:only-of-type {\n",
              "        vertical-align: middle;\n",
              "    }\n",
              "\n",
              "    .dataframe tbody tr th {\n",
              "        vertical-align: top;\n",
              "    }\n",
              "\n",
              "    .dataframe thead th {\n",
              "        text-align: right;\n",
              "    }\n",
              "</style>\n",
              "<table border=\"1\" class=\"dataframe\">\n",
              "  <thead>\n",
              "    <tr style=\"text-align: right;\">\n",
              "      <th></th>\n",
              "      <th>index</th>\n",
              "      <th>budget</th>\n",
              "      <th>genres</th>\n",
              "      <th>homepage</th>\n",
              "      <th>id</th>\n",
              "      <th>keywords</th>\n",
              "      <th>overview</th>\n",
              "      <th>tagline</th>\n",
              "      <th>title</th>\n",
              "      <th>cast</th>\n",
              "      <th>director</th>\n",
              "    </tr>\n",
              "  </thead>\n",
              "  <tbody>\n",
              "    <tr>\n",
              "      <th>0</th>\n",
              "      <td>0</td>\n",
              "      <td>237000000</td>\n",
              "      <td>Drama Romance</td>\n",
              "      <td>https://www.imdb.com/title/tt0120338/</td>\n",
              "      <td>16878</td>\n",
              "      <td>iceberg sailor's death shipwreck nude modeling...</td>\n",
              "      <td>84 years later, a 100 year-old woman named Ros...</td>\n",
              "      <td>Experience It Like Never Before</td>\n",
              "      <td>Titanic</td>\n",
              "      <td>Leonardo DiCaprio Kate Winslet Billy Zane Kath...</td>\n",
              "      <td>James Cameron</td>\n",
              "    </tr>\n",
              "    <tr>\n",
              "      <th>1</th>\n",
              "      <td>1</td>\n",
              "      <td>78000000</td>\n",
              "      <td>Action Fantasy Adventure Sci-Fi</td>\n",
              "      <td>https://www.imdb.com/title/tt10872600/?ref_=nv...</td>\n",
              "      <td>4789</td>\n",
              "      <td>spiderman character superhero marvel cinematic...</td>\n",
              "      <td>Peter Parker's secret identity is revealed to ...</td>\n",
              "      <td>The Multiverse Unleashed.</td>\n",
              "      <td>Spider-Man: No Way Home</td>\n",
              "      <td>Tom Holland Zendaya Benedict Cumberbatch Jacob...</td>\n",
              "      <td>Jon Watts</td>\n",
              "    </tr>\n",
              "    <tr>\n",
              "      <th>2</th>\n",
              "      <td>2</td>\n",
              "      <td>12000000</td>\n",
              "      <td>Action Adventure Sci_Fi</td>\n",
              "      <td>https://www.imdb.com/title/tt2250912/?ref_=nv_...</td>\n",
              "      <td>3254</td>\n",
              "      <td>marvel cinematic universe superhero reboot ave...</td>\n",
              "      <td>A young Peter Parker/Spider-Man begins to navi...</td>\n",
              "      <td>\\nHomework can wait. The city can't.</td>\n",
              "      <td>Spider-Man: Homecoming</td>\n",
              "      <td>Tom Holland Michael Keaton Robert Downey Jr. M...</td>\n",
              "      <td>Jon Watts</td>\n",
              "    </tr>\n",
              "    <tr>\n",
              "      <th>3</th>\n",
              "      <td>3</td>\n",
              "      <td>560000000</td>\n",
              "      <td>Action Adventure Sci_Fi Drama</td>\n",
              "      <td>https://www.imdb.com/title/tt4154796/?ref_=ttl...</td>\n",
              "      <td>1257</td>\n",
              "      <td>time travel superhero super villain cosmic mar...</td>\n",
              "      <td>After the devastating events of Avengers: Infi...</td>\n",
              "      <td>Avenge the fallen.</td>\n",
              "      <td>Avengers: Endgame</td>\n",
              "      <td>Robert Downey Jr. Chris Evans Mark Ruffalo Chr...</td>\n",
              "      <td>Anthony Russo</td>\n",
              "    </tr>\n",
              "    <tr>\n",
              "      <th>4</th>\n",
              "      <td>4</td>\n",
              "      <td>355000000</td>\n",
              "      <td>Action Adventure Sci-Fi</td>\n",
              "      <td>https://www.imdb.com/title/tt4154756/?ref_=tt_...</td>\n",
              "      <td>1125</td>\n",
              "      <td>superhero death of recurring character supervi...</td>\n",
              "      <td>As the Avengers and their allies have continue...</td>\n",
              "      <td>\\nAn entire universe. Once and for all.</td>\n",
              "      <td>Avengers: Infinity War</td>\n",
              "      <td>Robert Downey Jr. Chris Evans Mark Ruffalo Chr...</td>\n",
              "      <td>Anthony Russo</td>\n",
              "    </tr>\n",
              "  </tbody>\n",
              "</table>\n",
              "</div>\n",
              "      <button class=\"colab-df-convert\" onclick=\"convertToInteractive('df-3e045fc6-a4e5-46a4-b316-c41add48372d')\"\n",
              "              title=\"Convert this dataframe to an interactive table.\"\n",
              "              style=\"display:none;\">\n",
              "        \n",
              "  <svg xmlns=\"http://www.w3.org/2000/svg\" height=\"24px\"viewBox=\"0 0 24 24\"\n",
              "       width=\"24px\">\n",
              "    <path d=\"M0 0h24v24H0V0z\" fill=\"none\"/>\n",
              "    <path d=\"M18.56 5.44l.94 2.06.94-2.06 2.06-.94-2.06-.94-.94-2.06-.94 2.06-2.06.94zm-11 1L8.5 8.5l.94-2.06 2.06-.94-2.06-.94L8.5 2.5l-.94 2.06-2.06.94zm10 10l.94 2.06.94-2.06 2.06-.94-2.06-.94-.94-2.06-.94 2.06-2.06.94z\"/><path d=\"M17.41 7.96l-1.37-1.37c-.4-.4-.92-.59-1.43-.59-.52 0-1.04.2-1.43.59L10.3 9.45l-7.72 7.72c-.78.78-.78 2.05 0 2.83L4 21.41c.39.39.9.59 1.41.59.51 0 1.02-.2 1.41-.59l7.78-7.78 2.81-2.81c.8-.78.8-2.07 0-2.86zM5.41 20L4 18.59l7.72-7.72 1.47 1.35L5.41 20z\"/>\n",
              "  </svg>\n",
              "      </button>\n",
              "      \n",
              "  <style>\n",
              "    .colab-df-container {\n",
              "      display:flex;\n",
              "      flex-wrap:wrap;\n",
              "      gap: 12px;\n",
              "    }\n",
              "\n",
              "    .colab-df-convert {\n",
              "      background-color: #E8F0FE;\n",
              "      border: none;\n",
              "      border-radius: 50%;\n",
              "      cursor: pointer;\n",
              "      display: none;\n",
              "      fill: #1967D2;\n",
              "      height: 32px;\n",
              "      padding: 0 0 0 0;\n",
              "      width: 32px;\n",
              "    }\n",
              "\n",
              "    .colab-df-convert:hover {\n",
              "      background-color: #E2EBFA;\n",
              "      box-shadow: 0px 1px 2px rgba(60, 64, 67, 0.3), 0px 1px 3px 1px rgba(60, 64, 67, 0.15);\n",
              "      fill: #174EA6;\n",
              "    }\n",
              "\n",
              "    [theme=dark] .colab-df-convert {\n",
              "      background-color: #3B4455;\n",
              "      fill: #D2E3FC;\n",
              "    }\n",
              "\n",
              "    [theme=dark] .colab-df-convert:hover {\n",
              "      background-color: #434B5C;\n",
              "      box-shadow: 0px 1px 3px 1px rgba(0, 0, 0, 0.15);\n",
              "      filter: drop-shadow(0px 1px 2px rgba(0, 0, 0, 0.3));\n",
              "      fill: #FFFFFF;\n",
              "    }\n",
              "  </style>\n",
              "\n",
              "      <script>\n",
              "        const buttonEl =\n",
              "          document.querySelector('#df-3e045fc6-a4e5-46a4-b316-c41add48372d button.colab-df-convert');\n",
              "        buttonEl.style.display =\n",
              "          google.colab.kernel.accessAllowed ? 'block' : 'none';\n",
              "\n",
              "        async function convertToInteractive(key) {\n",
              "          const element = document.querySelector('#df-3e045fc6-a4e5-46a4-b316-c41add48372d');\n",
              "          const dataTable =\n",
              "            await google.colab.kernel.invokeFunction('convertToInteractive',\n",
              "                                                     [key], {});\n",
              "          if (!dataTable) return;\n",
              "\n",
              "          const docLinkHtml = 'Like what you see? Visit the ' +\n",
              "            '<a target=\"_blank\" href=https://colab.research.google.com/notebooks/data_table.ipynb>data table notebook</a>'\n",
              "            + ' to learn more about interactive tables.';\n",
              "          element.innerHTML = '';\n",
              "          dataTable['output_type'] = 'display_data';\n",
              "          await google.colab.output.renderOutput(dataTable, element);\n",
              "          const docLink = document.createElement('div');\n",
              "          docLink.innerHTML = docLinkHtml;\n",
              "          element.appendChild(docLink);\n",
              "        }\n",
              "      </script>\n",
              "    </div>\n",
              "  </div>\n",
              "  "
            ]
          },
          "metadata": {},
          "execution_count": 3
        }
      ]
    },
    {
      "cell_type": "code",
      "source": [
        "# number of rows and columns in the data frame\n",
        "\n",
        "movies_data.shape"
      ],
      "metadata": {
        "colab": {
          "base_uri": "https://localhost:8080/"
        },
        "id": "MaCPOjKDfwUp",
        "outputId": "e293e6f1-4f9b-4b0f-db0a-88236c4fd616"
      },
      "execution_count": 4,
      "outputs": [
        {
          "output_type": "execute_result",
          "data": {
            "text/plain": [
              "(30, 11)"
            ]
          },
          "metadata": {},
          "execution_count": 4
        }
      ]
    },
    {
      "cell_type": "code",
      "source": [
        "# selecting the relevant features for recommendation\n",
        "\n",
        "selected_features = ['genres','keywords','tagline','cast','director']\n",
        "print(selected_features)"
      ],
      "metadata": {
        "colab": {
          "base_uri": "https://localhost:8080/"
        },
        "id": "RSXci8RXf1I6",
        "outputId": "fe2c8d8f-160f-41d5-8a31-30f24027d146"
      },
      "execution_count": 5,
      "outputs": [
        {
          "output_type": "stream",
          "name": "stdout",
          "text": [
            "['genres', 'keywords', 'tagline', 'cast', 'director']\n"
          ]
        }
      ]
    },
    {
      "cell_type": "code",
      "source": [
        "# replacing the null valuess with null string\n",
        "\n",
        "for feature in selected_features:\n",
        "  movies_data[feature] = movies_data[feature].fillna('')"
      ],
      "metadata": {
        "id": "qhF-hHFSf35B"
      },
      "execution_count": 6,
      "outputs": []
    },
    {
      "cell_type": "code",
      "source": [
        "# combining all the 5 selected features\n",
        "\n",
        "combined_features = movies_data['genres']+' '+movies_data['keywords']+' '+movies_data['tagline']+' '+movies_data['cast']+' '+movies_data['director']"
      ],
      "metadata": {
        "id": "fg2bpdrDf7jA"
      },
      "execution_count": 7,
      "outputs": []
    },
    {
      "cell_type": "code",
      "source": [
        "print(combined_features)"
      ],
      "metadata": {
        "colab": {
          "base_uri": "https://localhost:8080/"
        },
        "id": "-I-F6TTff90_",
        "outputId": "f25e9e68-796c-4859-ad78-89426df3e88b"
      },
      "execution_count": 8,
      "outputs": [
        {
          "output_type": "stream",
          "name": "stdout",
          "text": [
            "0     Drama Romance iceberg sailor's death shipwreck...\n",
            "1     Action Fantasy Adventure Sci-Fi  spiderman cha...\n",
            "2     Action Adventure Sci_Fi marvel cinematic unive...\n",
            "3     Action Adventure Sci_Fi Drama time travel supe...\n",
            "4     Action Adventure Sci-Fi superhero death of rec...\n",
            "5     Action Crime Thriller Drama  batman character ...\n",
            "6     Action Crime Thriller Drama  dc comics psychop...\n",
            "7     Action Adventure Thriller Sci-Fi  tyrannosauru...\n",
            "8     Adventure Fantasy wizard hobbit dragon orc swo...\n",
            "9     Adventure Family Fantasy  magic wizard orphan ...\n",
            "10    Adventure Family Fantasy Mystery  wonderland a...\n",
            "11    Action Adventure Sci_Fi villian alien parasite...\n",
            "12    Action Adventure Sci_Fi superhero peter parker...\n",
            "13    Action Adventure Sci_Fi villian alien parasite...\n",
            "14    Adventure Family Mystery Fantasy invisibility ...\n",
            "15    Adventure Family Mystery Fantasy werewolf rat ...\n",
            "16    Adventure Family Mystery Fantasy friendship ar...\n",
            "17    Adventure Family Mystery Fantasy tournament wi...\n",
            "18    Animation Adventure Comedy Drama Family Fantas...\n",
            "19    \\nAnimation Adventure Comedy Family Fantasy Sc...\n",
            "20    \\nAnimation Adventure Comedy Family Fantasy My...\n",
            "21    \\nAction Adventure Sci-Fi billiionare inventor...\n",
            "22    \\nAction Sci-Fi superhero billionare power sui...\n",
            "23    \\nAction Adventure Sci-Fi terrorist billionare...\n",
            "24    \\nAction Adventure Fantasy Sci-Fi famous twist...\n",
            "25    Action Adventure Fantasy Sci-Fi rebellion gala...\n",
            "26    \\nAction Adventure Fantasy Sci-Fi death star m...\n",
            "27    \\nAction Adventure Crime Mystery Thriller fast...\n",
            "28    Action Adventure Comedy Sci-Fi based on comic ...\n",
            "29    Action Thriller female protagonist assassin da...\n",
            "dtype: object\n"
          ]
        }
      ]
    },
    {
      "cell_type": "code",
      "source": [
        "# converting the text data to feature vectors\n",
        "\n",
        "vectorizer = TfidfVectorizer()"
      ],
      "metadata": {
        "id": "T1QEjN6AgBky"
      },
      "execution_count": 9,
      "outputs": []
    },
    {
      "cell_type": "code",
      "source": [
        "feature_vectors = vectorizer.fit_transform(combined_features)"
      ],
      "metadata": {
        "id": "pKYSwEbugF9l"
      },
      "execution_count": 10,
      "outputs": []
    },
    {
      "cell_type": "code",
      "source": [
        "print(feature_vectors)"
      ],
      "metadata": {
        "colab": {
          "base_uri": "https://localhost:8080/"
        },
        "id": "S7rvqZ9XgHzY",
        "outputId": "88a03f3e-e628-48da-e37b-c920adb125b0"
      },
      "execution_count": 11,
      "outputs": [
        {
          "output_type": "stream",
          "name": "stdout",
          "text": [
            "  (0, 79)\t0.15010766706481002\n",
            "  (0, 261)\t0.1060239514806124\n",
            "  (0, 389)\t0.15010766706481002\n",
            "  (0, 55)\t0.15010766706481002\n",
            "  (0, 482)\t0.15010766706481002\n",
            "  (0, 203)\t0.15010766706481002\n",
            "  (0, 179)\t0.1133399188491523\n",
            "  (0, 185)\t0.15010766706481002\n",
            "  (0, 42)\t0.15010766706481002\n",
            "  (0, 281)\t0.15010766706481002\n",
            "  (0, 572)\t0.15010766706481002\n",
            "  (0, 58)\t0.1133399188491523\n",
            "  (0, 556)\t0.15010766706481002\n",
            "  (0, 280)\t0.15010766706481002\n",
            "  (0, 139)\t0.15010766706481002\n",
            "  (0, 299)\t0.15010766706481002\n",
            "  (0, 47)\t0.15010766706481002\n",
            "  (0, 358)\t0.15010766706481002\n",
            "  (0, 305)\t0.15010766706481002\n",
            "  (0, 257)\t0.1060239514806124\n",
            "  (0, 162)\t0.15010766706481002\n",
            "  (0, 542)\t0.15010766706481002\n",
            "  (0, 144)\t0.15010766706481002\n",
            "  (0, 308)\t0.15010766706481002\n",
            "  (0, 509)\t0.13383767929066442\n",
            "  :\t:\n",
            "  (28, 261)\t0.14286815085649773\n",
            "  (28, 257)\t0.14286815085649773\n",
            "  (29, 82)\t0.21375946585501432\n",
            "  (29, 362)\t0.21375946585501432\n",
            "  (29, 53)\t0.21375946585501432\n",
            "  (29, 198)\t0.21375946585501432\n",
            "  (29, 195)\t0.21375946585501432\n",
            "  (29, 176)\t0.21375946585501432\n",
            "  (29, 275)\t0.21375946585501432\n",
            "  (29, 224)\t0.21375946585501432\n",
            "  (29, 374)\t0.21375946585501432\n",
            "  (29, 382)\t0.21375946585501432\n",
            "  (29, 312)\t0.21375946585501432\n",
            "  (29, 307)\t0.21375946585501432\n",
            "  (29, 267)\t0.21375946585501432\n",
            "  (29, 31)\t0.21375946585501432\n",
            "  (29, 391)\t0.21375946585501432\n",
            "  (29, 124)\t0.21375946585501432\n",
            "  (29, 129)\t0.21375946585501432\n",
            "  (29, 33)\t0.21375946585501432\n",
            "  (29, 400)\t0.21375946585501432\n",
            "  (29, 174)\t0.21375946585501432\n",
            "  (29, 506)\t0.15098244932784471\n",
            "  (29, 8)\t0.16436982273120143\n",
            "  (29, 377)\t0.19059033689528315\n"
          ]
        }
      ]
    },
    {
      "cell_type": "code",
      "source": [
        "# getting the similarity scores using cosine similarity\n",
        "\n",
        "similarity = cosine_similarity(feature_vectors)"
      ],
      "metadata": {
        "id": "-x4Z9g9wgJN7"
      },
      "execution_count": 12,
      "outputs": []
    },
    {
      "cell_type": "code",
      "source": [
        "print(similarity)"
      ],
      "metadata": {
        "colab": {
          "base_uri": "https://localhost:8080/"
        },
        "id": "RvIBJyY6gPzV",
        "outputId": "383ec040-a912-4c43-95d1-b967a50b41e8"
      },
      "execution_count": 13,
      "outputs": [
        {
          "output_type": "stream",
          "name": "stdout",
          "text": [
            "[[1.         0.         0.         0.01397318 0.03776492 0.01514722\n",
            "  0.01487346 0.01364369 0.         0.         0.01269667 0.01307261\n",
            "  0.01416672 0.01495886 0.         0.         0.         0.\n",
            "  0.054329   0.         0.01388654 0.         0.01421234 0.\n",
            "  0.03787736 0.04515327 0.06346275 0.01434051 0.03029489 0.02550817]\n",
            " [0.         1.         0.2945238  0.13979397 0.17617546 0.04371349\n",
            "  0.01701241 0.04360749 0.02901837 0.02377674 0.04766004 0.04652153\n",
            "  0.10398289 0.0987192  0.02999441 0.02965201 0.06883025 0.01390096\n",
            "  0.03041353 0.03154073 0.03072003 0.14284711 0.13375874 0.11044193\n",
            "  0.06705974 0.04392505 0.03355628 0.06026419 0.08237619 0.01291022]\n",
            " [0.         0.2945238  1.         0.17075121 0.12629117 0.06867004\n",
            "  0.0449057  0.00836669 0.01881408 0.01287692 0.03493631 0.04478023\n",
            "  0.05059231 0.04332409 0.00366321 0.0036214  0.01085241 0.00401673\n",
            "  0.0037144  0.00350282 0.00341167 0.20009585 0.18983125 0.17761695\n",
            "  0.03177769 0.0157016  0.00786767 0.03974803 0.04024427 0.01176716]\n",
            " [0.01397318 0.13979397 0.17075121 1.         0.64470079 0.09293553\n",
            "  0.04408745 0.03846131 0.01885342 0.04953355 0.00986007 0.05371625\n",
            "  0.06986298 0.05353293 0.06607457 0.00362897 0.01087511 0.00402513\n",
            "  0.02251545 0.00351014 0.00341881 0.10441339 0.19385118 0.12882814\n",
            "  0.07304528 0.04990093 0.06519384 0.03983116 0.10372429 0.01179177]\n",
            " [0.03776492 0.17617546 0.12629117 0.64470079 1.         0.06486323\n",
            "  0.01578239 0.0911028  0.0278382  0.06233812 0.01685466 0.02907317\n",
            "  0.04123923 0.03326815 0.04514617 0.03023687 0.02613374 0.00408829\n",
            "  0.01192524 0.02157956 0.02101806 0.14090798 0.18211685 0.16718357\n",
            "  0.09819889 0.08372986 0.07816675 0.07287415 0.10498032 0.01197679]\n",
            " [0.01514722 0.04371349 0.06867004 0.09293553 0.06486323 1.\n",
            "  0.13330055 0.06097246 0.10439667 0.00955352 0.04916246 0.05067617\n",
            "  0.06563058 0.04938757 0.00857281 0.00847495 0.03220608 0.\n",
            "  0.02906493 0.         0.         0.02149124 0.07279915 0.03546894\n",
            "  0.02567388 0.0133887  0.00512249 0.07549411 0.05027399 0.0343528 ]\n",
            " [0.01487346 0.01701241 0.0449057  0.04408745 0.01578239 0.13330055\n",
            "  1.         0.02340138 0.03041408 0.01949487 0.         0.03499962\n",
            "  0.0315076  0.04004973 0.01749364 0.01729394 0.01642989 0.01918188\n",
            "  0.02000413 0.         0.         0.00573439 0.03247919 0.01790777\n",
            "  0.00649721 0.00538789 0.00502991 0.04984126 0.02371024 0.03373192]\n",
            " [0.01364369 0.04360749 0.00836669 0.03846131 0.0911028  0.06097246\n",
            "  0.02340138 1.         0.00346768 0.02187735 0.01620299 0.10685864\n",
            "  0.03812646 0.04025832 0.02735341 0.01117712 0.02512331 0.00393022\n",
            "  0.01146417 0.0483203  0.02020542 0.0784522  0.05687418 0.02922282\n",
            "  0.03405772 0.04161947 0.02328206 0.0334369  0.0993158  0.0309429 ]\n",
            " [0.         0.02901837 0.01881408 0.01885342 0.0278382  0.10439667\n",
            "  0.03041408 0.00346768 1.         0.06977259 0.02408314 0.04436991\n",
            "  0.02778777 0.00380194 0.07677139 0.06466893 0.04083258 0.07172866\n",
            "  0.01212083 0.01143039 0.03952893 0.00371757 0.07575391 0.00409291\n",
            "  0.0537959  0.02606792 0.02336    0.05953719 0.03702576 0.        ]\n",
            " [0.         0.02377674 0.01287692 0.04953355 0.06233812 0.00955352\n",
            "  0.01949487 0.02187735 0.06977259 1.         0.03194537 0.02592006\n",
            "  0.01915433 0.02022535 0.38120008 0.54031664 0.27115809 0.47867532\n",
            "  0.07319962 0.02688016 0.02618073 0.04752389 0.06890784 0.00471455\n",
            "  0.06555834 0.02135923 0.02690792 0.02228779 0.11056689 0.        ]\n",
            " [0.01269667 0.04766004 0.03493631 0.00986007 0.01685466 0.04916246\n",
            "  0.         0.01620299 0.02408314 0.03194537 1.         0.02182497\n",
            "  0.01682413 0.01776486 0.08340427 0.06768928 0.07997675 0.05459176\n",
            "  0.06857139 0.02053964 0.04814505 0.02959795 0.02054841 0.00360247\n",
            "  0.03137574 0.05879485 0.02190309 0.05991278 0.04775989 0.        ]\n",
            " [0.01307261 0.04652153 0.04478023 0.05371625 0.02907317 0.05067617\n",
            "  0.03499962 0.10685864 0.04436991 0.02592006 0.02182497 1.\n",
            "  0.32507978 0.68186244 0.02325925 0.02299374 0.04269117 0.01739124\n",
            "  0.01098431 0.00328391 0.00319846 0.03608034 0.09001634 0.02499762\n",
            "  0.03550234 0.01945588 0.01179689 0.03453344 0.06971207 0.02206358]\n",
            " [0.01416672 0.10398289 0.05059231 0.06986298 0.04123923 0.06563058\n",
            "  0.0315076  0.03812646 0.02778777 0.01915433 0.01682413 0.32507978\n",
            "  1.         0.54231193 0.02520594 0.0249182  0.03873388 0.0188468\n",
            "  0.01190364 0.00355876 0.00346616 0.01457476 0.09702826 0.07047294\n",
            "  0.02065023 0.04129308 0.01278423 0.02200085 0.0423286  0.02391019]\n",
            " [0.01495886 0.0987192  0.04332409 0.05353293 0.03326815 0.04938757\n",
            "  0.04004973 0.04025832 0.00380194 0.02022535 0.01776486 0.68186244\n",
            "  0.54231193 1.         0.02661534 0.02631152 0.0408997  0.01990063\n",
            "  0.01256924 0.00375775 0.00365997 0.01538972 0.07879528 0.02860453\n",
            "  0.0218049  0.0144598  0.01349907 0.02323103 0.06256923 0.02524714]\n",
            " [0.         0.02999441 0.00366321 0.06607457 0.04514617 0.00857281\n",
            "  0.01749364 0.02735341 0.07677139 0.38120008 0.08340427 0.02325925\n",
            "  0.02520594 0.02661534 1.         0.35543432 0.27392404 0.44854328\n",
            "  0.05191661 0.0241208  0.06747101 0.00384261 0.         0.00423058\n",
            "  0.01808711 0.03222008 0.03923584 0.02698856 0.04818408 0.        ]\n",
            " [0.         0.02965201 0.0036214  0.00362897 0.03023687 0.00847495\n",
            "  0.01729394 0.01117712 0.06466893 0.54031664 0.06768928 0.02299374\n",
            "  0.0249182  0.02631152 0.35543432 1.         0.32931884 0.45601222\n",
            "  0.03374483 0.02384546 0.0376848  0.00379874 0.         0.00418229\n",
            "  0.03961199 0.03185228 0.02387008 0.02668048 0.03227153 0.        ]\n",
            " [0.         0.06883025 0.01085241 0.01087511 0.02613374 0.03220608\n",
            "  0.01642989 0.02512331 0.04083258 0.27115809 0.07997675 0.04269117\n",
            "  0.03873388 0.0408997  0.27392404 0.32931884 1.         0.27428781\n",
            "  0.04813159 0.02265407 0.03580196 0.00360895 0.02266374 0.00397333\n",
            "  0.05819878 0.09212887 0.04094239 0.05583827 0.04399557 0.        ]\n",
            " [0.         0.01390096 0.00401673 0.00402513 0.00408829 0.\n",
            "  0.01918188 0.00393022 0.07172866 0.47867532 0.05459176 0.01739124\n",
            "  0.0188468  0.01990063 0.44854328 0.45601222 0.27428781 1.\n",
            "  0.0475444  0.0264486  0.04179875 0.00421344 0.         0.00463885\n",
            "  0.01983262 0.01248758 0.04302233 0.02069361 0.02389862 0.        ]\n",
            " [0.054329   0.03041353 0.0037144  0.02251545 0.01192524 0.02906493\n",
            "  0.02000413 0.01146417 0.01212083 0.07319962 0.06857139 0.01098431\n",
            "  0.01190364 0.01256924 0.05191661 0.03374483 0.04813159 0.0475444\n",
            "  1.         0.40354661 0.42154799 0.04324126 0.0382299  0.00428969\n",
            "  0.01833985 0.01154765 0.0260814  0.03133699 0.09481895 0.        ]\n",
            " [0.         0.03154073 0.00350282 0.00351014 0.02157956 0.\n",
            "  0.         0.0483203  0.01143039 0.02688016 0.02053964 0.00328391\n",
            "  0.00355876 0.00375775 0.0241208  0.02384546 0.02265407 0.0264486\n",
            "  0.40354661 1.         0.34141666 0.02224014 0.01803962 0.02448564\n",
            "  0.03833069 0.05610971 0.02645128 0.00360242 0.04498666 0.        ]\n",
            " [0.01388654 0.03072003 0.00341167 0.00341881 0.02101806 0.\n",
            "  0.         0.02020542 0.03952893 0.02618073 0.04814505 0.00319846\n",
            "  0.00346616 0.00365997 0.06747101 0.0376848  0.03580196 0.04179875\n",
            "  0.42154799 0.34141666 1.         0.02166145 0.01757023 0.02384852\n",
            "  0.03733332 0.02759656 0.02576301 0.0352918  0.0438161  0.        ]\n",
            " [0.         0.14284711 0.20009585 0.10441339 0.14090798 0.02149124\n",
            "  0.00573439 0.0784522  0.00371757 0.04752389 0.02959795 0.03608034\n",
            "  0.01457476 0.01538972 0.00384261 0.00379874 0.00360895 0.00421344\n",
            "  0.04324126 0.02224014 0.02166145 1.         0.2564652  0.17492871\n",
            "  0.03651197 0.02673619 0.0249598  0.02577074 0.11076271 0.01234342]\n",
            " [0.01421234 0.13375874 0.18983125 0.19385118 0.18211685 0.07279915\n",
            "  0.03247919 0.05687418 0.07575391 0.06890784 0.02054841 0.09001634\n",
            "  0.09702826 0.07879528 0.         0.         0.02266374 0.\n",
            "  0.0382299  0.01803962 0.01757023 0.2564652  1.         0.28843933\n",
            "  0.08081994 0.06215459 0.02103968 0.05178983 0.18899314 0.01199359]\n",
            " [0.         0.11044193 0.17761695 0.12882814 0.16718357 0.03546894\n",
            "  0.01790777 0.02922282 0.00409291 0.00471455 0.00360247 0.02499762\n",
            "  0.07047294 0.02860453 0.00423058 0.00418229 0.00397333 0.00463885\n",
            "  0.00428969 0.02448564 0.02384852 0.17492871 0.28843933 1.\n",
            "  0.04019844 0.05562968 0.02747989 0.01015602 0.03244364 0.01358968]\n",
            " [0.03787736 0.06705974 0.03177769 0.07304528 0.09819889 0.02567388\n",
            "  0.00649721 0.03405772 0.0537959  0.06555834 0.03137574 0.03550234\n",
            "  0.02065023 0.0218049  0.01808711 0.03961199 0.05819878 0.01983262\n",
            "  0.01833985 0.03833069 0.03733332 0.03651197 0.08081994 0.04019844\n",
            "  1.         0.41816665 0.3441005  0.05072341 0.09825792 0.01398542]\n",
            " [0.04515327 0.04392505 0.0157016  0.04990093 0.08372986 0.0133887\n",
            "  0.00538789 0.04161947 0.02606792 0.02135923 0.05879485 0.01945588\n",
            "  0.04129308 0.0144598  0.03222008 0.03185228 0.09212887 0.01248758\n",
            "  0.01154765 0.05610971 0.02759656 0.02673619 0.06215459 0.05562968\n",
            "  0.41816665 1.         0.28224248 0.02362889 0.06201012 0.01159757]\n",
            " [0.06346275 0.03355628 0.00786767 0.06519384 0.07816675 0.00512249\n",
            "  0.00502991 0.02328206 0.02336    0.02690792 0.02190309 0.01179689\n",
            "  0.01278423 0.01349907 0.03923584 0.02387008 0.04094239 0.04302233\n",
            "  0.0260814  0.02645128 0.02576301 0.0249598  0.02103968 0.02747989\n",
            "  0.3441005  0.28224248 1.         0.00809139 0.06872711 0.01082701]\n",
            " [0.01434051 0.06026419 0.03974803 0.03983116 0.07287415 0.07549411\n",
            "  0.04984126 0.0334369  0.05953719 0.02228779 0.05991278 0.03453344\n",
            "  0.02200085 0.02323103 0.02698856 0.02668048 0.05583827 0.02069361\n",
            "  0.03133699 0.00360242 0.0352918  0.02577074 0.05178983 0.01015602\n",
            "  0.05072341 0.02362889 0.00809139 1.         0.08157183 0.03252322]\n",
            " [0.03029489 0.08237619 0.04024427 0.10372429 0.10498032 0.05027399\n",
            "  0.02371024 0.0993158  0.03702576 0.11056689 0.04775989 0.06971207\n",
            "  0.0423286  0.06256923 0.04818408 0.03227153 0.04399557 0.02389862\n",
            "  0.09481895 0.04498666 0.0438161  0.11076271 0.18899314 0.03244364\n",
            "  0.09825792 0.06201012 0.06872711 0.08157183 1.         0.01278272]\n",
            " [0.02550817 0.01291022 0.01176716 0.01179177 0.01197679 0.0343528\n",
            "  0.03373192 0.0309429  0.         0.         0.         0.02206358\n",
            "  0.02391019 0.02524714 0.         0.         0.         0.\n",
            "  0.         0.         0.         0.01234342 0.01199359 0.01358968\n",
            "  0.01398542 0.01159757 0.01082701 0.03252322 0.01278272 1.        ]]\n"
          ]
        }
      ]
    },
    {
      "cell_type": "code",
      "source": [
        "print(similarity.shape)"
      ],
      "metadata": {
        "colab": {
          "base_uri": "https://localhost:8080/"
        },
        "id": "gdK3F1obgRXp",
        "outputId": "882990c0-cafa-405c-a605-04a81e4b5646"
      },
      "execution_count": 14,
      "outputs": [
        {
          "output_type": "stream",
          "name": "stdout",
          "text": [
            "(30, 30)\n"
          ]
        }
      ]
    },
    {
      "cell_type": "code",
      "source": [
        "# getting the movie name from the user\n",
        "\n",
        "movie_name = input(' Enter your favourite movie name : ')"
      ],
      "metadata": {
        "colab": {
          "base_uri": "https://localhost:8080/"
        },
        "id": "7D3r2I3kgTW1",
        "outputId": "022ad3e5-e1db-4c77-99b1-c9851d70c4fd"
      },
      "execution_count": 15,
      "outputs": [
        {
          "name": "stdout",
          "output_type": "stream",
          "text": [
            " Enter your favourite movie name : Spider-Man\n"
          ]
        }
      ]
    },
    {
      "cell_type": "code",
      "source": [
        "# creating a list with all the movie names given in the dataset\n",
        "\n",
        "list_of_all_titles = movies_data['title'].tolist()\n",
        "print(list_of_all_titles)"
      ],
      "metadata": {
        "colab": {
          "base_uri": "https://localhost:8080/"
        },
        "id": "LD4LHbGpgXHT",
        "outputId": "4119bc80-ceac-4eef-a2cb-512b6e94e405"
      },
      "execution_count": 16,
      "outputs": [
        {
          "output_type": "stream",
          "name": "stdout",
          "text": [
            "['Titanic', 'Spider-Man: No Way Home', 'Spider-Man: Homecoming', 'Avengers: Endgame', 'Avengers: Infinity War', 'The Batman', 'The Dark Knight', 'Jurassic World: Dominion', 'The Hobbit: An Unexpected Journey', \"Harry Potter and the Sorcerer's Stone\", 'Alice in Wonderland', 'Spider-Man 3', 'Spider-Man', 'Spider-Man 2', 'Harry Potter and the Chamber of Secrets', 'Harry Potter and the Prisoner of Azkaban ', 'Harry Potter and the Order of the Phoenix', 'Harry Potter and the Goblet of Fire', \"Doraemon the Movie: Nobita's Sky Utopia (Coming soon)\", \"Doraemon the Movie: Nobita's New Dinosaur\", 'Doraemon: Great Adventure in the Antarctic Kachi Kochi', 'Iron Man', 'Iron Man 2 ', 'Iron Man 3', 'Star Wars: Episode V - The Empire Strikes Back', 'Star Wars: Episode IV - A New Hope', 'Star Wars: Episode VI - Return of the Jedi', 'Fast X', 'Guardians of the Galaxy Vol. 3', 'The Mother ']\n"
          ]
        }
      ]
    },
    {
      "cell_type": "code",
      "source": [
        "# finding the close match for the movie name given by the user\n",
        "\n",
        "find_close_match = difflib.get_close_matches(movie_name, list_of_all_titles)\n",
        "print(find_close_match)"
      ],
      "metadata": {
        "colab": {
          "base_uri": "https://localhost:8080/"
        },
        "id": "xuGk22EBgbnQ",
        "outputId": "6cba4083-cddc-4b7f-e640-674693771742"
      },
      "execution_count": 17,
      "outputs": [
        {
          "output_type": "stream",
          "name": "stdout",
          "text": [
            "['Spider-Man', 'Spider-Man 3', 'Spider-Man 2']\n"
          ]
        }
      ]
    },
    {
      "cell_type": "code",
      "source": [
        "close_match = find_close_match[0]\n",
        "print(close_match)"
      ],
      "metadata": {
        "colab": {
          "base_uri": "https://localhost:8080/"
        },
        "id": "PfLoNVcmggTH",
        "outputId": "6f21c5b4-6030-4b09-8159-dda2bdcc7379"
      },
      "execution_count": 18,
      "outputs": [
        {
          "output_type": "stream",
          "name": "stdout",
          "text": [
            "Spider-Man\n"
          ]
        }
      ]
    },
    {
      "cell_type": "code",
      "source": [
        "# finding the index of the movie with title\n",
        "\n",
        "index_of_the_movie = movies_data[movies_data.title == close_match]['index'].values[0]\n",
        "print(index_of_the_movie)"
      ],
      "metadata": {
        "colab": {
          "base_uri": "https://localhost:8080/"
        },
        "id": "xUzd9bYJneWj",
        "outputId": "d19dcb3d-4af7-4492-fcda-531dbf87b8ca"
      },
      "execution_count": 19,
      "outputs": [
        {
          "output_type": "stream",
          "name": "stdout",
          "text": [
            "12\n"
          ]
        }
      ]
    },
    {
      "cell_type": "code",
      "source": [
        "# getting a list of similar movies\n",
        "\n",
        "similarity_score = list(enumerate(similarity[index_of_the_movie]))\n",
        "print(similarity_score)"
      ],
      "metadata": {
        "colab": {
          "base_uri": "https://localhost:8080/"
        },
        "id": "kb2G3n_jnp2H",
        "outputId": "5e83a324-ef2b-433f-ab9e-81bf17dff2cd"
      },
      "execution_count": 20,
      "outputs": [
        {
          "output_type": "stream",
          "name": "stdout",
          "text": [
            "[(0, 0.014166717372244458), (1, 0.1039828906030285), (2, 0.050592311099907535), (3, 0.06986297679865035), (4, 0.041239232787165084), (5, 0.06563057968150747), (6, 0.031507602112950915), (7, 0.03812645599998821), (8, 0.027787771726735428), (9, 0.019154327419398577), (10, 0.01682412656125791), (11, 0.32507977999805526), (12, 0.9999999999999996), (13, 0.5423119276440621), (14, 0.025205936212070564), (15, 0.024918203395459144), (16, 0.03873387589356974), (17, 0.01884680271707348), (18, 0.0119036408953423), (19, 0.0035587602255372094), (20, 0.0034661603734415423), (21, 0.014574762726955917), (22, 0.09702825715939936), (23, 0.07047293920465626), (24, 0.020650228735356956), (25, 0.04129307802846428), (26, 0.012784233428158414), (27, 0.022000845935573846), (28, 0.04232860104736622), (29, 0.023910185783708078)]\n"
          ]
        }
      ]
    },
    {
      "cell_type": "code",
      "source": [
        "len(similarity_score)"
      ],
      "metadata": {
        "colab": {
          "base_uri": "https://localhost:8080/"
        },
        "id": "tuZSf1SknvQQ",
        "outputId": "80fc7978-4966-4e0f-cd23-d96f525e7409"
      },
      "execution_count": 21,
      "outputs": [
        {
          "output_type": "execute_result",
          "data": {
            "text/plain": [
              "30"
            ]
          },
          "metadata": {},
          "execution_count": 21
        }
      ]
    },
    {
      "cell_type": "code",
      "source": [
        "# sorting the movies based on their similarity score\n",
        "\n",
        "sorted_similar_movies = sorted(similarity_score, key = lambda x:x[1], reverse = True) \n",
        "print(sorted_similar_movies)"
      ],
      "metadata": {
        "colab": {
          "base_uri": "https://localhost:8080/"
        },
        "id": "4w1TRLHanx6q",
        "outputId": "de57ce05-b1aa-44f2-e893-bf3e56e5d5fc"
      },
      "execution_count": 22,
      "outputs": [
        {
          "output_type": "stream",
          "name": "stdout",
          "text": [
            "[(12, 0.9999999999999996), (13, 0.5423119276440621), (11, 0.32507977999805526), (1, 0.1039828906030285), (22, 0.09702825715939936), (23, 0.07047293920465626), (3, 0.06986297679865035), (5, 0.06563057968150747), (2, 0.050592311099907535), (28, 0.04232860104736622), (25, 0.04129307802846428), (4, 0.041239232787165084), (16, 0.03873387589356974), (7, 0.03812645599998821), (6, 0.031507602112950915), (8, 0.027787771726735428), (14, 0.025205936212070564), (15, 0.024918203395459144), (29, 0.023910185783708078), (27, 0.022000845935573846), (24, 0.020650228735356956), (9, 0.019154327419398577), (17, 0.01884680271707348), (10, 0.01682412656125791), (21, 0.014574762726955917), (0, 0.014166717372244458), (26, 0.012784233428158414), (18, 0.0119036408953423), (19, 0.0035587602255372094), (20, 0.0034661603734415423)]\n"
          ]
        }
      ]
    },
    {
      "cell_type": "code",
      "source": [
        "# print the name of similar movies based on the index\n",
        "\n",
        "print('Movies suggested for you : \\n')\n",
        "\n",
        "i = 1\n",
        "\n",
        "for movie in sorted_similar_movies:\n",
        "  index = movie[0]\n",
        "  title_from_index = movies_data[movies_data.index==index]['title'].values[0]\n",
        "  if (i<30):\n",
        "    print(i, '.',title_from_index)\n",
        "    i+=1"
      ],
      "metadata": {
        "colab": {
          "base_uri": "https://localhost:8080/"
        },
        "id": "N8vYiMsbn0ky",
        "outputId": "48900cd1-7096-46f9-ec64-d884ff632fd2"
      },
      "execution_count": 23,
      "outputs": [
        {
          "output_type": "stream",
          "name": "stdout",
          "text": [
            "Movies suggested for you : \n",
            "\n",
            "1 . Spider-Man\n",
            "2 . Spider-Man 2\n",
            "3 . Spider-Man 3\n",
            "4 . Spider-Man: No Way Home\n",
            "5 . Iron Man 2 \n",
            "6 . Iron Man 3\n",
            "7 . Avengers: Endgame\n",
            "8 . The Batman\n",
            "9 . Spider-Man: Homecoming\n",
            "10 . Guardians of the Galaxy Vol. 3\n",
            "11 . Star Wars: Episode IV - A New Hope\n",
            "12 . Avengers: Infinity War\n",
            "13 . Harry Potter and the Order of the Phoenix\n",
            "14 . Jurassic World: Dominion\n",
            "15 . The Dark Knight\n",
            "16 . The Hobbit: An Unexpected Journey\n",
            "17 . Harry Potter and the Chamber of Secrets\n",
            "18 . Harry Potter and the Prisoner of Azkaban \n",
            "19 . The Mother \n",
            "20 . Fast X\n",
            "21 . Star Wars: Episode V - The Empire Strikes Back\n",
            "22 . Harry Potter and the Sorcerer's Stone\n",
            "23 . Harry Potter and the Goblet of Fire\n",
            "24 . Alice in Wonderland\n",
            "25 . Iron Man\n",
            "26 . Titanic\n",
            "27 . Star Wars: Episode VI - Return of the Jedi\n",
            "28 . Doraemon the Movie: Nobita's Sky Utopia (Coming soon)\n",
            "29 . Doraemon the Movie: Nobita's New Dinosaur\n"
          ]
        }
      ]
    },
    {
      "cell_type": "code",
      "source": [
        "movie_name = input(' Enter your favourite movie name : ')\n",
        "\n",
        "list_of_all_titles = movies_data['title'].tolist()\n",
        "\n",
        "find_close_match = difflib.get_close_matches(movie_name, list_of_all_titles)\n",
        "\n",
        "close_match = find_close_match[0]\n",
        "\n",
        "index_of_the_movie = movies_data[movies_data.title == close_match]['index'].values[0]\n",
        "\n",
        "similarity_score = list(enumerate(similarity[index_of_the_movie]))\n",
        "\n",
        "sorted_similar_movies = sorted(similarity_score, key = lambda x:x[1], reverse = True) \n",
        "\n",
        "print('Movies suggested for you : \\n')\n",
        "\n",
        "i = 1\n",
        "\n",
        "for movie in sorted_similar_movies:\n",
        "  index = movie[0]\n",
        "  title_from_index = movies_data[movies_data.index==index]['title'].values[0]\n",
        "  if (i<30):\n",
        "    print(i, '.',title_from_index)\n",
        "    i+=1"
      ],
      "metadata": {
        "colab": {
          "base_uri": "https://localhost:8080/"
        },
        "id": "9VZ-AymSn4x_",
        "outputId": "873df652-0a4d-4c0f-90f9-654854845618"
      },
      "execution_count": 24,
      "outputs": [
        {
          "output_type": "stream",
          "name": "stdout",
          "text": [
            " Enter your favourite movie name : Bat man\n",
            "Movies suggested for you : \n",
            "\n",
            "1 . The Batman\n",
            "2 . The Dark Knight\n",
            "3 . The Hobbit: An Unexpected Journey\n",
            "4 . Avengers: Endgame\n",
            "5 . Fast X\n",
            "6 . Iron Man 2 \n",
            "7 . Spider-Man: Homecoming\n",
            "8 . Spider-Man\n",
            "9 . Avengers: Infinity War\n",
            "10 . Jurassic World: Dominion\n",
            "11 . Spider-Man 3\n",
            "12 . Guardians of the Galaxy Vol. 3\n",
            "13 . Spider-Man 2\n",
            "14 . Alice in Wonderland\n",
            "15 . Spider-Man: No Way Home\n",
            "16 . Iron Man 3\n",
            "17 . The Mother \n",
            "18 . Harry Potter and the Order of the Phoenix\n",
            "19 . Doraemon the Movie: Nobita's Sky Utopia (Coming soon)\n",
            "20 . Star Wars: Episode V - The Empire Strikes Back\n",
            "21 . Iron Man\n",
            "22 . Titanic\n",
            "23 . Star Wars: Episode IV - A New Hope\n",
            "24 . Harry Potter and the Sorcerer's Stone\n",
            "25 . Harry Potter and the Chamber of Secrets\n",
            "26 . Harry Potter and the Prisoner of Azkaban \n",
            "27 . Star Wars: Episode VI - Return of the Jedi\n",
            "28 . Harry Potter and the Goblet of Fire\n",
            "29 . Doraemon the Movie: Nobita's New Dinosaur\n"
          ]
        }
      ]
    },
    {
      "cell_type": "code",
      "source": [],
      "metadata": {
        "id": "bmTNYUbxoB4Q"
      },
      "execution_count": 24,
      "outputs": []
    }
  ]
}